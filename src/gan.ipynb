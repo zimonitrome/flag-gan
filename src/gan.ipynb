{
 "cells": [
  {
   "cell_type": "code",
   "execution_count": 1,
   "metadata": {},
   "outputs": [],
   "source": [
    "import matplotlib.pyplot as plt\n",
    "import numpy as np\n",
    "import torch\n",
    "import torch.nn as nn\n",
    "import torch.optim as optim\n",
    "from models import Generator, Discriminator\n",
    "from PIL import Image\n",
    "from torchvision import datasets, transforms\n",
    "from torch.autograd import Variable\n",
    "import torchvision.utils as vutils"
   ]
  },
  {
   "cell_type": "code",
   "execution_count": 2,
   "metadata": {},
   "outputs": [],
   "source": [
    "data = \"./data/\"\n",
    "batch_size = 300\n",
    "epochs = 10\n",
    "lr = 0.001\n",
    "beta = 0.5\n",
    "epoch_test_interval = 1\n",
    "batch_test_interval = 10000\n",
    "\n",
    "# test_interval = 1\n",
    "# log_interval = 100"
   ]
  },
  {
   "cell_type": "code",
   "execution_count": 3,
   "metadata": {},
   "outputs": [
    {
     "name": "stdout",
     "output_type": "stream",
     "text": [
      "cuda\n"
     ]
    }
   ],
   "source": [
    "def pil_loader(path):\n",
    "    with open(path, 'rb') as f:\n",
    "        with Image.open(f) as img:\n",
    "            return img.convert('RGBA')\n",
    "\n",
    "\n",
    "def get_flag_loader(dir=args.data, batch_size=args.batch_size, shuffle=True):\n",
    "    transform = transforms.ToTensor()\n",
    "    flag_dataset = datasets.ImageFolder(\n",
    "        root=dir, transform=transform, loader=pil_loader)\n",
    "    flag_loader = torch.utils.data.DataLoader(\n",
    "        dataset=flag_dataset, batch_size=batch_size, shuffle=shuffle)\n",
    "\n",
    "    return flag_loader\n",
    "\n",
    "\n",
    "def train(data_loader, epoch):\n",
    "    D.train()\n",
    "    G.train()\n",
    "\n",
    "    for batch_idx, (data, _) in enumerate(data_loader):\n",
    "        n_samples = data.size(dim=0)\n",
    "\n",
    "        #######################\n",
    "        # Train Discriminator #\n",
    "        #######################\n",
    "\n",
    "        # Zero out gradients on discriminator\n",
    "        D.zero_grad()\n",
    "\n",
    "        # Load real flag data, run through discriminator and compute BCE loss\n",
    "        # against target vector of all ones, because the flags are legit\n",
    "        real_data = Variable(data)\n",
    "        output = D(real_data)\n",
    "        real_target = Variable(torch.ones(n_samples))\n",
    "        real_error = loss(output.squeeze(), real_target)\n",
    "\n",
    "        # Get normally distributed noise and feed to generator to create fake\n",
    "        # flag data. Run fake flag data through discriminator and compute BCE\n",
    "        # loss against target vector of all zeros, because data is fake. Detach\n",
    "        # to avoid training generator on these labels\n",
    "        noise = Variable(torch.randn(n_samples, 100, 1, 1))\n",
    "        fake_data = G(noise)\n",
    "        output = D(fake_data.detach())\n",
    "        fake_target = Variable(torch.zeros(n_samples))\n",
    "        fake_error = loss(output.squeeze(), fake_target)\n",
    "\n",
    "        # Compute accumulated gradient based on real and fake data to update\n",
    "        # discriminator weights\n",
    "        d_error = real_error + fake_error\n",
    "        d_error.backward()\n",
    "        d_optim.step()\n",
    "\n",
    "        ###################\n",
    "        # Train Generator #\n",
    "        ###################\n",
    "\n",
    "        # Zero out gradients on generator\n",
    "        G.zero_grad()\n",
    "\n",
    "        # Run fake flag data through discriminator and compute BCE loss against\n",
    "        # target vector of all ones. We want to fool the discriminator, so\n",
    "        # pretend the mapped data is genuine\n",
    "        output = D(fake_data)\n",
    "        g_error = loss(output.squeeze(), real_target)\n",
    "\n",
    "        # Compute new gradients from discriminator and update weights of the\n",
    "        # generator\n",
    "        g_error.backward()\n",
    "        g_optim.step()\n",
    "\n",
    "        # Logging\n",
    "        if batch_idx % args.log_interval == 0:\n",
    "            print('({:02d}, {:02d}) \\tLoss_D: {:.6f} \\tLoss_G: {:.6f}'.format(\n",
    "                epoch, batch_idx, d_error.data[0], g_error.data[0]))\n",
    "\n",
    "\n",
    "def test(fixed_noise, epoch):\n",
    "    G.eval()\n",
    "    # Run noise through generator and reshape output vector to 4x16x32 to match\n",
    "    # flag size for display purposes. Convert to RGBA PIL image and display\n",
    "    sample = G(fixed_noise).data[0].view(4, 16, 32)\n",
    "    img = transforms.functional.to_pil_image(sample, mode='RGBA')\n",
    "    imgplot = plt.imshow(img)\n",
    "    plt.title('Epoch {}'.format(epoch))\n",
    "    plt.show()"
   ]
  },
  {
   "cell_type": "code",
   "execution_count": 90,
   "metadata": {},
   "outputs": [],
   "source": [
    "G, D = Generator(), Discriminator()\n",
    "loss = nn.BCELoss()\n",
    "g_optim = optim.Adam(G.parameters(), lr=args.lr, betas=(args.beta1, 0.999))\n",
    "d_optim = optim.Adam(D.parameters(), lr=args.lr, betas=(args.beta1, 0.999))\n",
    "\n",
    "flag_loader = get_flag_loader()\n",
    "noise = Variable(torch.randn(1, 100, 1, 1))"
   ]
  },
  {
   "cell_type": "code",
   "execution_count": 137,
   "metadata": {},
   "outputs": [],
   "source": [
    "for epoch in range(1, args.epochs + 1):\n",
    "    # Train Model\n",
    "    train(data_loader=flag_loader, epoch=epoch)\n",
    "\n",
    "    # Test Generator\n",
    "    if epoch % args.test_interval == 0:\n",
    "        test(fixed_noise=noise, epoch=epoch)"
   ]
  },
  {
   "cell_type": "code",
   "execution_count": null,
   "metadata": {},
   "outputs": [],
   "source": []
  }
 ],
 "metadata": {
  "kernelspec": {
   "display_name": "Python 3",
   "language": "python",
   "name": "python3"
  },
  "language_info": {
   "codemirror_mode": {
    "name": "ipython",
    "version": 3
   },
   "file_extension": ".py",
   "mimetype": "text/x-python",
   "name": "python",
   "nbconvert_exporter": "python",
   "pygments_lexer": "ipython3",
   "version": "3.7.4"
  }
 },
 "nbformat": 4,
 "nbformat_minor": 4
}