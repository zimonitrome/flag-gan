{
 "cells": [
  {
   "cell_type": "code",
   "execution_count": 1,
   "metadata": {},
   "outputs": [
    {
     "data": {
      "application/vnd.jupyter.widget-view+json": {
       "model_id": "ad2740e26842419192eb50a07e6a10a9",
       "version_major": 2,
       "version_minor": 0
      },
      "text/plain": [
       "HBox(children=(IntProgress(value=0, max=6179), HTML(value='')))"
      ]
     },
     "metadata": {},
     "output_type": "display_data"
    },
    {
     "name": "stdout",
     "output_type": "stream",
     "text": [
      "\n"
     ]
    }
   ],
   "source": [
    "import cv2\n",
    "import numpy as np\n",
    "import glob\n",
    "from tqdm import tqdm_notebook as tqdm\n",
    "import os"
   ]
  },
  {
   "cell_type": "markdown",
   "metadata": {},
   "source": [
    "Stretch images to uniform ratio."
   ]
  },
  {
   "cell_type": "code",
   "execution_count": null,
   "metadata": {},
   "outputs": [],
   "source": [
    "base = \"../../data/wiki_flags\"\n",
    "inp = f\"{base}/flags_256x_all_hand_picked\"\n",
    "outp = f\"{base}/flags_256x128_all_hand_picked\"\n",
    "\n",
    "os.makedirs(outp, exist_ok=True)\n",
    "\n",
    "for path_name in tqdm(glob.glob(\"./flags_256x_all_hand_picked/*.png\")):\n",
    "    file_name = path_name.split('\\\\')[-1]\n",
    "    img = cv2.imread(path_name, cv2.IMREAD_UNCHANGED)\n",
    "    res = cv2.resize(img, dsize=(256, 128), interpolation=cv2.INTER_CUBIC)\n",
    "    cv2.imwrite(f\"./flags_256x128_all_hand_picked/{file_name}\", res)"
   ]
  },
  {
   "cell_type": "markdown",
   "metadata": {},
   "source": [
    "Remove alpha channel and turn into 3 channel RGB."
   ]
  },
  {
   "cell_type": "code",
   "execution_count": 39,
   "metadata": {},
   "outputs": [
    {
     "data": {
      "application/vnd.jupyter.widget-view+json": {
       "model_id": "cc39d439934f4859b401f46186d2a9ca",
       "version_major": 2,
       "version_minor": 0
      },
      "text/plain": [
       "HBox(children=(IntProgress(value=0, max=6179), HTML(value='')))"
      ]
     },
     "metadata": {},
     "output_type": "display_data"
    },
    {
     "name": "stdout",
     "output_type": "stream",
     "text": [
      "\n"
     ]
    }
   ],
   "source": [
    "base = \"../../data/wiki_flags\"\n",
    "inp = f\"{base}/flags_256x128_all_hand_picked\"\n",
    "outp = f\"{base}/flags_256x128_no_transp\"\n",
    "\n",
    "os.makedirs(outp, exist_ok=True)\n",
    "\n",
    "for path_name in tqdm(glob.glob(f\"{inp}/*.png\")):\n",
    "    file_name = path_name.split('\\\\')[-1]\n",
    "    img = cv2.imread(path_name, cv2.IMREAD_UNCHANGED)\n",
    "    res = None\n",
    "    if len(img.shape) == 2:\n",
    "        res = cv2.cvtColor(img, cv2.COLOR_GRAY2RGB)\n",
    "    if len(img.shape) == 3:\n",
    "        if img.shape[-1] == 4:\n",
    "            if np.any(img[:,:,3] == 0):\n",
    "                continue\n",
    "            res = img[:,:,:3]  # Remove last channel\n",
    "        else:\n",
    "            res = img\n",
    "    cv2.imwrite(f\"{outp}/{file_name}\", res)"
   ]
  }
 ],
 "metadata": {
  "kernelspec": {
   "display_name": "Python 3",
   "language": "python",
   "name": "python3"
  },
  "language_info": {
   "codemirror_mode": {
    "name": "ipython",
    "version": 3
   },
   "file_extension": ".py",
   "mimetype": "text/x-python",
   "name": "python",
   "nbconvert_exporter": "python",
   "pygments_lexer": "ipython3",
   "version": "3.7.4"
  }
 },
 "nbformat": 4,
 "nbformat_minor": 4
}
